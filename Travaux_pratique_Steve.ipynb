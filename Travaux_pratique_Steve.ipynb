{
 "cells": [
  {
   "cell_type": "markdown",
   "id": "191d767e",
   "metadata": {},
   "source": [
    "Question 1: Comment chiffrer les données sensibles telles que les conditions médicales et les médicaments dans le dataset en utilisant AES (Advanced Encryption Standard) avec une clé de 256 bits ?"
   ]
  },
  {
   "cell_type": "code",
   "execution_count": 17,
   "id": "a8fc1bd1",
   "metadata": {},
   "outputs": [],
   "source": [
    "%config InlineBackend.iopub_data_rate_limit = 1000000000"
   ]
  },
  {
   "cell_type": "code",
   "execution_count": 7,
   "id": "12c7bd57",
   "metadata": {},
   "outputs": [],
   "source": [
    "import pandas as pd\n",
    "from cryptography.fernet import Fernet\n",
    "\n",
    "# Charger le dataset \n",
    "data = pd.read_csv(\"medical_records.csv\")\n",
    "\n",
    "# Générer une clé AES\n",
    "key = Fernet.generate_key()\n",
    "cipher_suite = Fernet(key)\n",
    "\n",
    "# Chiffrer les données sensibles\n",
    "data_to_encrypt = \" \".join([row[\"medical_conditions\"] + row[\"medications\"] for index, row in data.iterrows()])\n",
    "encrypted_data = cipher_suite.encrypt(data_to_encrypt.encode())\n",
    "\n",
    "# Enregistrer les données chiffrées dans un fichier CSV\n",
    "with open(\"encrypted_medical_records_Steve.csv\", \"wb\") as f:\n",
    "    f.write(encrypted_data)\n"
   ]
  },
  {
   "cell_type": "markdown",
   "id": "a46b30c6",
   "metadata": {},
   "source": [
    "Question 2: Comment hasher les noms des patients pour garantir l'intégrité des données?"
   ]
  },
  {
   "cell_type": "code",
   "execution_count": 12,
   "id": "64c5a02f",
   "metadata": {},
   "outputs": [
    {
     "name": "stdout",
     "output_type": "stream",
     "text": [
      "   patient_id              name date_of_birth gender  \\\n",
      "0           1        Scott Webb    1967-04-28      F   \n",
      "1           2  Rachel Frederick    1977-04-04      M   \n",
      "2           3        Eric Kline    1926-05-18      F   \n",
      "3           4   James Rodriguez    1954-07-20      M   \n",
      "4           5       David Scott    2015-12-07      M   \n",
      "\n",
      "                  medical_conditions                  medications  \\\n",
      "0               Mrs, story, security        example, parent, city   \n",
      "1  performance, participant, surface             be, develop, guy   \n",
      "2        quite, about, international  station, situation, popular   \n",
      "3               him, sea, television           about, item, often   \n",
      "4             make, moment, physical     deep, letter, difference   \n",
      "\n",
      "                        allergies last_appointment_date  \\\n",
      "0              each, product, two            2022-07-26   \n",
      "1  north, hospital, international            2023-02-14   \n",
      "2                 tree, other, at            2021-04-24   \n",
      "3         discuss, play, somebody            2022-05-26   \n",
      "4            because, true, blood            2021-05-17   \n",
      "\n",
      "                                         hashed_name  \n",
      "0  be40abea3b19bd7a3daefa4d09962014a9bf37ba96b56a...  \n",
      "1  74ffb932dd9d20a62a35dfc1fb68a653d2009cdb9af561...  \n",
      "2  9fbeca4bc0eb8dee0d62c3077ba7436536722779af57a5...  \n",
      "3  51366f12b9771e00269ff2e4c54973db240f475cef89ad...  \n",
      "4  2d32ffdf3857fa92fae405e6692c49217445c652fcd283...  \n"
     ]
    }
   ],
   "source": [
    "import pandas as pd\n",
    "import hashlib\n",
    "\n",
    "# Charger le dataset \n",
    "data = pd.read_csv(\"medical_records.csv\")\n",
    "\n",
    "# Hasher les noms des patients\n",
    "hashed_names = [hashlib.sha256(row[\"name\"].encode()).hexdigest() for index, row in data.iterrows()]\n",
    "\n",
    "# Enregistrer le résultat du hashage dans une nouvelle colonne du DataFrame\n",
    "data[\"hashed_name\"] = hashed_names\n",
    "\n",
    "# Enregistrer les données dans un fichier CSV\n",
    "data.to_csv(\"hashed_medical_records.csv\", index=False)\n",
    "\n",
    "# Afficher les 5 premières lignes du fichier\n",
    "print(data.head())"
   ]
  },
  {
   "cell_type": "markdown",
   "id": "69e6366e",
   "metadata": {},
   "source": [
    "Question 3: Comment masquer les dates de naissance des patients en utilisant une technique d'obfuscation?"
   ]
  },
  {
   "cell_type": "code",
   "execution_count": 16,
   "id": "a95f7caa",
   "metadata": {},
   "outputs": [
    {
     "name": "stdout",
     "output_type": "stream",
     "text": [
      "   patient_id              name date_of_birth gender  \\\n",
      "0           1        Scott Webb    1967-04-28      F   \n",
      "1           2  Rachel Frederick    1977-04-04      M   \n",
      "2           3        Eric Kline    1926-05-18      F   \n",
      "3           4   James Rodriguez    1954-07-20      M   \n",
      "4           5       David Scott    2015-12-07      M   \n",
      "\n",
      "                  medical_conditions                  medications  \\\n",
      "0               Mrs, story, security        example, parent, city   \n",
      "1  performance, participant, surface             be, develop, guy   \n",
      "2        quite, about, international  station, situation, popular   \n",
      "3               him, sea, television           about, item, often   \n",
      "4             make, moment, physical     deep, letter, difference   \n",
      "\n",
      "                        allergies last_appointment_date  \\\n",
      "0              each, product, two            2022-07-26   \n",
      "1  north, hospital, international            2023-02-14   \n",
      "2                 tree, other, at            2021-04-24   \n",
      "3         discuss, play, somebody            2022-05-26   \n",
      "4            because, true, blood            2021-05-17   \n",
      "\n",
      "  obfuscated_date_of_birth  \n",
      "0                 1967XXXX  \n",
      "1                 1977XXXX  \n",
      "2                 1926XXXX  \n",
      "3                 1954XXXX  \n",
      "4                 2015XXXX  \n"
     ]
    }
   ],
   "source": [
    "import pandas as pd\n",
    "\n",
    "# Charger le dataset \n",
    "data = pd.read_csv(\"medical_records.csv\")\n",
    "\n",
    "# Obfuscation des dates de naissance\n",
    "obfuscated_dates = [dob[:4] + \"XXXX\" for dob in data[\"date_of_birth\"]]\n",
    "\n",
    "# Ajouter les dates obfusquées comme une nouvelle colonne dans le DataFrame\n",
    "data[\"obfuscated_date_of_birth\"] = obfuscated_dates\n",
    "\n",
    "# Enregistrer les données dans un fichier CSV\n",
    "data.to_csv(\"obfuscated_medical_records.csv\", index=False)\n",
    "\n",
    "# Afficher les 5 premières lignes du fichier CSV\n",
    "print(data.head())\n"
   ]
  },
  {
   "cell_type": "markdown",
   "id": "d4147cb3",
   "metadata": {},
   "source": [
    "Question 4: Comment vérifier l'intégrité des données en utilisant un code HMAC?"
   ]
  },
  {
   "cell_type": "code",
   "execution_count": 20,
   "id": "db7c5dae",
   "metadata": {},
   "outputs": [],
   "source": [
    "import pandas as pd\n",
    "import hmac\n",
    "import hashlib\n",
    "\n",
    "# Charger le dataset \n",
    "data = pd.read_csv(\"medical_records.csv\")\n",
    "\n",
    "# Générer une clé HMAC\n",
    "key = b'secret_key'\n",
    "\n",
    "# Calculer le HMAC pour chaque ligne de données\n",
    "hmacs = [hmac.new(key, row[\"medical_conditions\"].encode() + row[\"medications\"].encode(), hashlib.sha256).hexdigest() for index, row in data.iterrows()]\n",
    "\n",
    "# Ajouter les HMACs comme une nouvelle colonne dans le DataFrame\n",
    "data[\"hmac\"] = hmacs\n",
    "\n",
    "# Enregistrer les données dans un fichier CSV\n",
    "data.to_csv(\"medical_records_with_hmac.csv\", index=False)\n"
   ]
  },
  {
   "cell_type": "markdown",
   "id": "42b02c53",
   "metadata": {},
   "source": [
    "Question 5: Comment utiliser une technique de pseudonymisation pour anonymiser les noms des patients en remplaçant chaque nom par un identifiant unique?"
   ]
  },
  {
   "cell_type": "code",
   "execution_count": 24,
   "id": "6ec1c441",
   "metadata": {},
   "outputs": [
    {
     "name": "stdout",
     "output_type": "stream",
     "text": [
      "                                          patient_id date_of_birth gender  \\\n",
      "0  be40abea3b19bd7a3daefa4d09962014a9bf37ba96b56a...    1967-04-28      F   \n",
      "1  74ffb932dd9d20a62a35dfc1fb68a653d2009cdb9af561...    1977-04-04      M   \n",
      "2  9fbeca4bc0eb8dee0d62c3077ba7436536722779af57a5...    1926-05-18      F   \n",
      "3  51366f12b9771e00269ff2e4c54973db240f475cef89ad...    1954-07-20      M   \n",
      "4  2d32ffdf3857fa92fae405e6692c49217445c652fcd283...    2015-12-07      M   \n",
      "\n",
      "                  medical_conditions                  medications  \\\n",
      "0               Mrs, story, security        example, parent, city   \n",
      "1  performance, participant, surface             be, develop, guy   \n",
      "2        quite, about, international  station, situation, popular   \n",
      "3               him, sea, television           about, item, often   \n",
      "4             make, moment, physical     deep, letter, difference   \n",
      "\n",
      "                        allergies last_appointment_date  \n",
      "0              each, product, two            2022-07-26  \n",
      "1  north, hospital, international            2023-02-14  \n",
      "2                 tree, other, at            2021-04-24  \n",
      "3         discuss, play, somebody            2022-05-26  \n",
      "4            because, true, blood            2021-05-17  \n",
      "{'pseudonymization_technique': 'SHA-256 Hash', 'dataset_path': 'medical_records.csv', 'output_path': 'medical_records_pseudonymized.csv', 'first_5_rows': [{'patient_id': 'be40abea3b19bd7a3daefa4d09962014a9bf37ba96b56aa4787ec4fce49f59b6', 'date_of_birth': '1967-04-28', 'gender': 'F', 'medical_conditions': 'Mrs, story, security', 'medications': 'example, parent, city', 'allergies': 'each, product, two', 'last_appointment_date': '2022-07-26'}, {'patient_id': '74ffb932dd9d20a62a35dfc1fb68a653d2009cdb9af56194054c6c3594030f9d', 'date_of_birth': '1977-04-04', 'gender': 'M', 'medical_conditions': 'performance, participant, surface', 'medications': 'be, develop, guy', 'allergies': 'north, hospital, international', 'last_appointment_date': '2023-02-14'}, {'patient_id': '9fbeca4bc0eb8dee0d62c3077ba7436536722779af57a59bdb08235a3202e34e', 'date_of_birth': '1926-05-18', 'gender': 'F', 'medical_conditions': 'quite, about, international', 'medications': 'station, situation, popular', 'allergies': 'tree, other, at', 'last_appointment_date': '2021-04-24'}, {'patient_id': '51366f12b9771e00269ff2e4c54973db240f475cef89ad58a90fc456cd832792', 'date_of_birth': '1954-07-20', 'gender': 'M', 'medical_conditions': 'him, sea, television', 'medications': 'about, item, often', 'allergies': 'discuss, play, somebody', 'last_appointment_date': '2022-05-26'}, {'patient_id': '2d32ffdf3857fa92fae405e6692c49217445c652fcd283a629c750f1a8f9ea7c', 'date_of_birth': '2015-12-07', 'gender': 'M', 'medical_conditions': 'make, moment, physical', 'medications': 'deep, letter, difference', 'allergies': 'because, true, blood', 'last_appointment_date': '2021-05-17'}]}\n"
     ]
    }
   ],
   "source": [
    "import pandas as pd\n",
    "import hashlib\n",
    "\n",
    "# Charger le dataset \n",
    "data = pd.read_csv(\"medical_records.csv\")\n",
    "\n",
    "# Générer un identifiant unique pour chaque patient en utilisant le hash de leur nom\n",
    "data['patient_id'] = [hashlib.sha256(str(name).encode()).hexdigest() for name in data['name']]\n",
    "\n",
    "# Supprimer les noms des patients originaux\n",
    "data.drop(columns=['name'], inplace=True)\n",
    "\n",
    "# Stocker les paramètres\n",
    "params = {\n",
    "    \"pseudonymization_technique\": \"SHA-256 Hash\",\n",
    "    \"dataset_path\": \"medical_records.csv\",\n",
    "    \"output_path\": \"medical_records_pseudonymized.csv\"\n",
    "}\n",
    "\n",
    "# Enregistrer les données pseudonymisées dans un nouveau fichier CSV\n",
    "data.to_csv(params['output_path'], index=False)\n",
    "\n",
    "# Afficher les 5 premières lignes des données pseudonymisées\n",
    "print(data.head())\n",
    "\n",
    "# Ajouter les paramètres dans le dictionnaire\n",
    "params[\"first_5_rows\"] = data.head().to_dict(orient=\"records\")\n",
    "\n",
    "# Afficher les paramètres\n",
    "print(params)\n"
   ]
  }
 ],
 "metadata": {
  "kernelspec": {
   "display_name": "Python 3 (ipykernel)",
   "language": "python",
   "name": "python3"
  },
  "language_info": {
   "codemirror_mode": {
    "name": "ipython",
    "version": 3
   },
   "file_extension": ".py",
   "mimetype": "text/x-python",
   "name": "python",
   "nbconvert_exporter": "python",
   "pygments_lexer": "ipython3",
   "version": "3.11.7"
  }
 },
 "nbformat": 4,
 "nbformat_minor": 5
}
